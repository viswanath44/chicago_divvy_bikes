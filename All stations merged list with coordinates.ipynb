{
 "cells": [
  {
   "cell_type": "markdown",
   "metadata": {},
   "source": [
    "# Merging all the old stations and new stations list"
   ]
  },
  {
   "cell_type": "code",
   "execution_count": 1,
   "metadata": {},
   "outputs": [],
   "source": [
    "#importing pandas library\n",
    "import pandas as pd"
   ]
  },
  {
   "cell_type": "code",
   "execution_count": 2,
   "metadata": {},
   "outputs": [],
   "source": [
    "#reading latest station data into df\n",
    "df = pd.read_csv('./Latest_stations_coordinates_data/Divvy_Bicycle_Stations_Latest.csv')"
   ]
  },
  {
   "cell_type": "code",
   "execution_count": 3,
   "metadata": {},
   "outputs": [],
   "source": [
    "#reading all old stations data into respective dataframes\n",
    "df1 = pd.read_csv('./Old_stations_coordinates_data/Divvy_Stations_2014-Q3Q4.csv')\n",
    "df2 = pd.read_csv('./Old_stations_coordinates_data/Divvy_Stations_2015.csv')\n",
    "df3 = pd.read_csv('./Old_stations_coordinates_data/Divvy_Stations_2016_Q1Q2.csv')\n",
    "df4 = pd.read_csv('./Old_stations_coordinates_data/Divvy_Stations_2016_Q3.csv')\n",
    "df5 = pd.read_csv('./Old_stations_coordinates_data/Divvy_Stations_2016_Q4.csv')\n",
    "df6 = pd.read_csv('./Old_stations_coordinates_data/Divvy_Stations_2017_Q1Q2.csv')\n",
    "df7 = pd.read_csv('./Old_stations_coordinates_data/Divvy_Stations_2017_Q3Q4.csv')"
   ]
  },
  {
   "cell_type": "code",
   "execution_count": 4,
   "metadata": {},
   "outputs": [
    {
     "data": {
      "text/html": [
       "<div>\n",
       "<style scoped>\n",
       "    .dataframe tbody tr th:only-of-type {\n",
       "        vertical-align: middle;\n",
       "    }\n",
       "\n",
       "    .dataframe tbody tr th {\n",
       "        vertical-align: top;\n",
       "    }\n",
       "\n",
       "    .dataframe thead th {\n",
       "        text-align: right;\n",
       "    }\n",
       "</style>\n",
       "<table border=\"1\" class=\"dataframe\">\n",
       "  <thead>\n",
       "    <tr style=\"text-align: right;\">\n",
       "      <th></th>\n",
       "      <th>ID</th>\n",
       "      <th>Station Name</th>\n",
       "      <th>Total Docks</th>\n",
       "      <th>Docks in Service</th>\n",
       "      <th>Status</th>\n",
       "      <th>Latitude</th>\n",
       "      <th>Longitude</th>\n",
       "      <th>Location</th>\n",
       "    </tr>\n",
       "  </thead>\n",
       "  <tbody>\n",
       "    <tr>\n",
       "      <th>0</th>\n",
       "      <td>186</td>\n",
       "      <td>Ogden Ave &amp; Race Ave</td>\n",
       "      <td>15</td>\n",
       "      <td>15</td>\n",
       "      <td>In Service</td>\n",
       "      <td>41.891795</td>\n",
       "      <td>-87.658751</td>\n",
       "      <td>(41.891795, -87.658751)</td>\n",
       "    </tr>\n",
       "    <tr>\n",
       "      <th>1</th>\n",
       "      <td>184</td>\n",
       "      <td>State St &amp; 35th St</td>\n",
       "      <td>19</td>\n",
       "      <td>19</td>\n",
       "      <td>In Service</td>\n",
       "      <td>41.831036</td>\n",
       "      <td>-87.626798</td>\n",
       "      <td>(41.8310363140161, -87.62679755687714)</td>\n",
       "    </tr>\n",
       "    <tr>\n",
       "      <th>2</th>\n",
       "      <td>176</td>\n",
       "      <td>Clark St &amp; Elm St</td>\n",
       "      <td>39</td>\n",
       "      <td>39</td>\n",
       "      <td>In Service</td>\n",
       "      <td>41.902973</td>\n",
       "      <td>-87.631280</td>\n",
       "      <td>(41.902973, -87.63128)</td>\n",
       "    </tr>\n",
       "    <tr>\n",
       "      <th>3</th>\n",
       "      <td>648</td>\n",
       "      <td>Carpenter St &amp; 63rd St</td>\n",
       "      <td>7</td>\n",
       "      <td>7</td>\n",
       "      <td>In Service</td>\n",
       "      <td>41.779870</td>\n",
       "      <td>-87.650919</td>\n",
       "      <td>(41.77987, -87.650919)</td>\n",
       "    </tr>\n",
       "    <tr>\n",
       "      <th>4</th>\n",
       "      <td>658</td>\n",
       "      <td>Leavitt St &amp; Division St</td>\n",
       "      <td>15</td>\n",
       "      <td>15</td>\n",
       "      <td>In Service</td>\n",
       "      <td>41.902997</td>\n",
       "      <td>-87.683825</td>\n",
       "      <td>(41.902997, -87.683825)</td>\n",
       "    </tr>\n",
       "  </tbody>\n",
       "</table>\n",
       "</div>"
      ],
      "text/plain": [
       "    ID              Station Name  Total Docks  Docks in Service      Status  \\\n",
       "0  186      Ogden Ave & Race Ave           15                15  In Service   \n",
       "1  184        State St & 35th St           19                19  In Service   \n",
       "2  176         Clark St & Elm St           39                39  In Service   \n",
       "3  648    Carpenter St & 63rd St            7                 7  In Service   \n",
       "4  658  Leavitt St & Division St           15                15  In Service   \n",
       "\n",
       "    Latitude  Longitude                                Location  \n",
       "0  41.891795 -87.658751                 (41.891795, -87.658751)  \n",
       "1  41.831036 -87.626798  (41.8310363140161, -87.62679755687714)  \n",
       "2  41.902973 -87.631280                  (41.902973, -87.63128)  \n",
       "3  41.779870 -87.650919                  (41.77987, -87.650919)  \n",
       "4  41.902997 -87.683825                 (41.902997, -87.683825)  "
      ]
     },
     "execution_count": 4,
     "metadata": {},
     "output_type": "execute_result"
    }
   ],
   "source": [
    "#printing latest stations head.(Also to check column names)\n",
    "df.head()"
   ]
  },
  {
   "cell_type": "code",
   "execution_count": 5,
   "metadata": {},
   "outputs": [
    {
     "data": {
      "text/html": [
       "<div>\n",
       "<style scoped>\n",
       "    .dataframe tbody tr th:only-of-type {\n",
       "        vertical-align: middle;\n",
       "    }\n",
       "\n",
       "    .dataframe tbody tr th {\n",
       "        vertical-align: top;\n",
       "    }\n",
       "\n",
       "    .dataframe thead th {\n",
       "        text-align: right;\n",
       "    }\n",
       "</style>\n",
       "<table border=\"1\" class=\"dataframe\">\n",
       "  <thead>\n",
       "    <tr style=\"text-align: right;\">\n",
       "      <th></th>\n",
       "      <th>id</th>\n",
       "      <th>name</th>\n",
       "      <th>latitude</th>\n",
       "      <th>longitude</th>\n",
       "      <th>dpcapacity</th>\n",
       "      <th>dateCreated</th>\n",
       "    </tr>\n",
       "  </thead>\n",
       "  <tbody>\n",
       "    <tr>\n",
       "      <th>0</th>\n",
       "      <td>5</td>\n",
       "      <td>State St &amp; Harrison St</td>\n",
       "      <td>41.873958</td>\n",
       "      <td>-87.627739</td>\n",
       "      <td>19</td>\n",
       "      <td>6/10/2013 10:46</td>\n",
       "    </tr>\n",
       "    <tr>\n",
       "      <th>1</th>\n",
       "      <td>13</td>\n",
       "      <td>Wilton Ave &amp; Diversey Pkwy</td>\n",
       "      <td>41.932500</td>\n",
       "      <td>-87.652681</td>\n",
       "      <td>19</td>\n",
       "      <td>6/22/2013 18:29</td>\n",
       "    </tr>\n",
       "    <tr>\n",
       "      <th>2</th>\n",
       "      <td>14</td>\n",
       "      <td>Morgan St &amp; 18th St</td>\n",
       "      <td>41.858086</td>\n",
       "      <td>-87.651073</td>\n",
       "      <td>15</td>\n",
       "      <td>6/22/2013 18:33</td>\n",
       "    </tr>\n",
       "    <tr>\n",
       "      <th>3</th>\n",
       "      <td>15</td>\n",
       "      <td>Racine Ave &amp; 19th St</td>\n",
       "      <td>41.856453</td>\n",
       "      <td>-87.656471</td>\n",
       "      <td>15</td>\n",
       "      <td>6/22/2013 18:35</td>\n",
       "    </tr>\n",
       "    <tr>\n",
       "      <th>4</th>\n",
       "      <td>16</td>\n",
       "      <td>Wood St &amp; North Ave</td>\n",
       "      <td>41.910329</td>\n",
       "      <td>-87.672516</td>\n",
       "      <td>15</td>\n",
       "      <td>6/22/2013 18:55</td>\n",
       "    </tr>\n",
       "  </tbody>\n",
       "</table>\n",
       "</div>"
      ],
      "text/plain": [
       "   id                        name   latitude  longitude  dpcapacity  \\\n",
       "0   5      State St & Harrison St  41.873958 -87.627739          19   \n",
       "1  13  Wilton Ave & Diversey Pkwy  41.932500 -87.652681          19   \n",
       "2  14         Morgan St & 18th St  41.858086 -87.651073          15   \n",
       "3  15        Racine Ave & 19th St  41.856453 -87.656471          15   \n",
       "4  16         Wood St & North Ave  41.910329 -87.672516          15   \n",
       "\n",
       "       dateCreated  \n",
       "0  6/10/2013 10:46  \n",
       "1  6/22/2013 18:29  \n",
       "2  6/22/2013 18:33  \n",
       "3  6/22/2013 18:35  \n",
       "4  6/22/2013 18:55  "
      ]
     },
     "execution_count": 5,
     "metadata": {},
     "output_type": "execute_result"
    }
   ],
   "source": [
    "#printing one of the old stations head.(Also to check column names)\n",
    "df1.head()"
   ]
  },
  {
   "cell_type": "markdown",
   "metadata": {},
   "source": [
    "### Renaming every dataframe's {Station Name, Latitute, Longitude} columns to merge into one single dataframe\n",
    "\n",
    "#### Also deleting all other columns in all dataframes except the three columns above"
   ]
  },
  {
   "cell_type": "code",
   "execution_count": 6,
   "metadata": {},
   "outputs": [],
   "source": [
    "df = df[['Station Name', 'Latitude', 'Longitude']]\n",
    "df = df.rename(columns={\"Station Name\": \"Station\"})"
   ]
  },
  {
   "cell_type": "code",
   "execution_count": 7,
   "metadata": {},
   "outputs": [],
   "source": [
    "df1 = df1.rename(columns={\"name\": \"Station\", \"latitude\" : \"Latitude\", \"longitude\" : \"Longitude\"})\n",
    "df1 = df1[['Station', 'Latitude', 'Longitude']]"
   ]
  },
  {
   "cell_type": "code",
   "execution_count": 8,
   "metadata": {},
   "outputs": [],
   "source": [
    "df2 = df2.rename(columns={\"name\": \"Station\", \"latitude\" : \"Latitude\", \"longitude\" : \"Longitude\"})\n",
    "df2 = df2[['Station', 'Latitude', 'Longitude']]"
   ]
  },
  {
   "cell_type": "code",
   "execution_count": 9,
   "metadata": {},
   "outputs": [],
   "source": [
    "df3 = df3.rename(columns={\"name\": \"Station\", \"latitude\" : \"Latitude\", \"longitude\" : \"Longitude\"})\n",
    "df3 = df3[['Station', 'Latitude', 'Longitude']]"
   ]
  },
  {
   "cell_type": "code",
   "execution_count": 10,
   "metadata": {},
   "outputs": [],
   "source": [
    "df4 = df4.rename(columns={\"name\": \"Station\", \"latitude\" : \"Latitude\", \"longitude\" : \"Longitude\"})\n",
    "df4 = df4[['Station', 'Latitude', 'Longitude']]"
   ]
  },
  {
   "cell_type": "code",
   "execution_count": 11,
   "metadata": {},
   "outputs": [],
   "source": [
    "df5 = df5.rename(columns={\"name\": \"Station\", \"latitude\" : \"Latitude\", \"longitude\" : \"Longitude\"})\n",
    "df5 = df5[['Station', 'Latitude', 'Longitude']]"
   ]
  },
  {
   "cell_type": "code",
   "execution_count": 12,
   "metadata": {},
   "outputs": [],
   "source": [
    "df6 = df6.rename(columns={\"name\": \"Station\", \"latitude\" : \"Latitude\", \"longitude\" : \"Longitude\"})\n",
    "df6 = df6[['Station', 'Latitude', 'Longitude']]"
   ]
  },
  {
   "cell_type": "code",
   "execution_count": 13,
   "metadata": {},
   "outputs": [],
   "source": [
    "df7 = df7.rename(columns={\"name\": \"Station\", \"latitude\" : \"Latitude\", \"longitude\" : \"Longitude\"})\n",
    "df7 = df7[['Station', 'Latitude', 'Longitude']]"
   ]
  },
  {
   "cell_type": "markdown",
   "metadata": {},
   "source": [
    "### Merging each individual old dataframe into the latest dataframe\n",
    "\n",
    "#### Only adding the stations from Old to Latest dataframe which are not present in the latest list"
   ]
  },
  {
   "cell_type": "code",
   "execution_count": 14,
   "metadata": {},
   "outputs": [],
   "source": [
    "final = pd.concat([df, df1[~df1['Station'].isin(df['Station'].to_list())]])"
   ]
  },
  {
   "cell_type": "code",
   "execution_count": 15,
   "metadata": {},
   "outputs": [],
   "source": [
    "final = pd.concat([final, df2[~df2['Station'].isin(final['Station'].to_list())]])"
   ]
  },
  {
   "cell_type": "code",
   "execution_count": 16,
   "metadata": {},
   "outputs": [],
   "source": [
    "final = pd.concat([final, df3[~df3['Station'].isin(final['Station'].to_list())]])"
   ]
  },
  {
   "cell_type": "code",
   "execution_count": 17,
   "metadata": {},
   "outputs": [],
   "source": [
    "final = pd.concat([final, df4[~df4['Station'].isin(final['Station'].to_list())]])"
   ]
  },
  {
   "cell_type": "code",
   "execution_count": 18,
   "metadata": {},
   "outputs": [],
   "source": [
    "final = pd.concat([final, df5[~df5['Station'].isin(final['Station'].to_list())]])"
   ]
  },
  {
   "cell_type": "code",
   "execution_count": 19,
   "metadata": {},
   "outputs": [],
   "source": [
    "final = pd.concat([final, df6[~df6['Station'].isin(final['Station'].to_list())]])"
   ]
  },
  {
   "cell_type": "code",
   "execution_count": 20,
   "metadata": {},
   "outputs": [],
   "source": [
    "final = pd.concat([final, df7[~df7['Station'].isin(final['Station'].to_list())]])"
   ]
  },
  {
   "cell_type": "code",
   "execution_count": 21,
   "metadata": {},
   "outputs": [
    {
     "data": {
      "text/html": [
       "<div>\n",
       "<style scoped>\n",
       "    .dataframe tbody tr th:only-of-type {\n",
       "        vertical-align: middle;\n",
       "    }\n",
       "\n",
       "    .dataframe tbody tr th {\n",
       "        vertical-align: top;\n",
       "    }\n",
       "\n",
       "    .dataframe thead th {\n",
       "        text-align: right;\n",
       "    }\n",
       "</style>\n",
       "<table border=\"1\" class=\"dataframe\">\n",
       "  <thead>\n",
       "    <tr style=\"text-align: right;\">\n",
       "      <th></th>\n",
       "      <th>Station</th>\n",
       "      <th>Latitude</th>\n",
       "      <th>Longitude</th>\n",
       "    </tr>\n",
       "  </thead>\n",
       "  <tbody>\n",
       "    <tr>\n",
       "      <th>0</th>\n",
       "      <td>Ogden Ave &amp; Race Ave</td>\n",
       "      <td>41.891795</td>\n",
       "      <td>-87.658751</td>\n",
       "    </tr>\n",
       "    <tr>\n",
       "      <th>1</th>\n",
       "      <td>State St &amp; 35th St</td>\n",
       "      <td>41.831036</td>\n",
       "      <td>-87.626798</td>\n",
       "    </tr>\n",
       "    <tr>\n",
       "      <th>2</th>\n",
       "      <td>Clark St &amp; Elm St</td>\n",
       "      <td>41.902973</td>\n",
       "      <td>-87.631280</td>\n",
       "    </tr>\n",
       "    <tr>\n",
       "      <th>3</th>\n",
       "      <td>Carpenter St &amp; 63rd St</td>\n",
       "      <td>41.779870</td>\n",
       "      <td>-87.650919</td>\n",
       "    </tr>\n",
       "    <tr>\n",
       "      <th>4</th>\n",
       "      <td>Leavitt St &amp; Division St</td>\n",
       "      <td>41.902997</td>\n",
       "      <td>-87.683825</td>\n",
       "    </tr>\n",
       "    <tr>\n",
       "      <th>...</th>\n",
       "      <td>...</td>\n",
       "      <td>...</td>\n",
       "      <td>...</td>\n",
       "    </tr>\n",
       "    <tr>\n",
       "      <th>401</th>\n",
       "      <td>Washtenaw Ave &amp; Ogden Ave (*)</td>\n",
       "      <td>41.861894</td>\n",
       "      <td>-87.693511</td>\n",
       "    </tr>\n",
       "    <tr>\n",
       "      <th>533</th>\n",
       "      <td>Eberhart (Vernon) Ave &amp; 79th St</td>\n",
       "      <td>41.751345</td>\n",
       "      <td>-87.612568</td>\n",
       "    </tr>\n",
       "    <tr>\n",
       "      <th>572</th>\n",
       "      <td>Wisconsin Ave &amp; Madison St (Temp)</td>\n",
       "      <td>41.879902</td>\n",
       "      <td>-87.803911</td>\n",
       "    </tr>\n",
       "    <tr>\n",
       "      <th>582</th>\n",
       "      <td>Dearborn St &amp; Van Buren St (*)</td>\n",
       "      <td>41.876268</td>\n",
       "      <td>-87.629155</td>\n",
       "    </tr>\n",
       "    <tr>\n",
       "      <th>583</th>\n",
       "      <td>Chicago Ave &amp; Dempster St</td>\n",
       "      <td>42.041691</td>\n",
       "      <td>-87.680687</td>\n",
       "    </tr>\n",
       "  </tbody>\n",
       "</table>\n",
       "<p>957 rows × 3 columns</p>\n",
       "</div>"
      ],
      "text/plain": [
       "                               Station   Latitude  Longitude\n",
       "0                 Ogden Ave & Race Ave  41.891795 -87.658751\n",
       "1                   State St & 35th St  41.831036 -87.626798\n",
       "2                    Clark St & Elm St  41.902973 -87.631280\n",
       "3               Carpenter St & 63rd St  41.779870 -87.650919\n",
       "4             Leavitt St & Division St  41.902997 -87.683825\n",
       "..                                 ...        ...        ...\n",
       "401      Washtenaw Ave & Ogden Ave (*)  41.861894 -87.693511\n",
       "533    Eberhart (Vernon) Ave & 79th St  41.751345 -87.612568\n",
       "572  Wisconsin Ave & Madison St (Temp)  41.879902 -87.803911\n",
       "582     Dearborn St & Van Buren St (*)  41.876268 -87.629155\n",
       "583          Chicago Ave & Dempster St  42.041691 -87.680687\n",
       "\n",
       "[957 rows x 3 columns]"
      ]
     },
     "execution_count": 21,
     "metadata": {},
     "output_type": "execute_result"
    }
   ],
   "source": [
    "final"
   ]
  },
  {
   "cell_type": "code",
   "execution_count": 22,
   "metadata": {},
   "outputs": [],
   "source": [
    "final.to_csv('final_stations.csv')"
   ]
  }
 ],
 "metadata": {
  "kernelspec": {
   "display_name": "Python 3",
   "language": "python",
   "name": "python3"
  },
  "language_info": {
   "codemirror_mode": {
    "name": "ipython",
    "version": 3
   },
   "file_extension": ".py",
   "mimetype": "text/x-python",
   "name": "python",
   "nbconvert_exporter": "python",
   "pygments_lexer": "ipython3",
   "version": "3.8.5"
  }
 },
 "nbformat": 4,
 "nbformat_minor": 4
}
