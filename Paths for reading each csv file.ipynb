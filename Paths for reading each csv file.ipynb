{
 "cells": [
  {
   "cell_type": "code",
   "execution_count": null,
   "metadata": {},
   "outputs": [],
   "source": [
    "import pandas as pd"
   ]
  },
  {
   "cell_type": "code",
   "execution_count": null,
   "metadata": {},
   "outputs": [],
   "source": [
    "#2013\n",
    "df1 = pd.read_csv('./Data/2013/Divvy_Trips_2013.csv')"
   ]
  },
  {
   "cell_type": "code",
   "execution_count": null,
   "metadata": {},
   "outputs": [],
   "source": [
    "#2014\n",
    "df1 = pd.read_csv('./Data/2014/Divvy_Trips_2014_Q1Q2.csv')\n",
    "df2 = pd.read_csv('./Data/2014/Divvy_Trips_2014-Q3-07.csv')\n",
    "df3 = pd.read_csv('./Data/2014/Divvy_Trips_2014-Q3-0809.csv')\n",
    "df4 = pd.read_csv('./Data/2014/Divvy_Trips_2014-Q4.csv')"
   ]
  },
  {
   "cell_type": "code",
   "execution_count": null,
   "metadata": {},
   "outputs": [],
   "source": [
    "#2015\n",
    "df1 = pd.read_csv('./Data/2015/Divvy_Trips_2015-Q1.csv')\n",
    "df2 = pd.read_csv('./Data/2015/Divvy_Trips_2015-Q2.csv')\n",
    "df3 = pd.read_csv('./Data/2015/Divvy_Trips_2015_07.csv')\n",
    "df4 = pd.read_csv('./Data/2015/Divvy_Trips_2015_08.csv')\n",
    "df5 = pd.read_csv('./Data/2015/Divvy_Trips_2015_09.csv')\n",
    "df6 = pd.read_csv('./Data/2015/Divvy_Trips_2015_Q4.csv')"
   ]
  },
  {
   "cell_type": "code",
   "execution_count": null,
   "metadata": {},
   "outputs": [],
   "source": [
    "#2016\n",
    "df1 = pd.read_csv('./Data/2016/Divvy_Trips_2016_Q1.csv')\n",
    "df2 = pd.read_csv('./Data/2016/Divvy_Trips_2016_04.csv')\n",
    "df3 = pd.read_csv('./Data/2016/Divvy_Trips_2016_05.csv')\n",
    "df4 = pd.read_csv('./Data/2016/Divvy_Trips_2016_06.csv')\n",
    "df5 = pd.read_csv('./Data/2016/Divvy_Trips_2016_Q3.csv')\n",
    "df6 = pd.read_csv('./Data/2016/Divvy_Trips_2016_Q4.csv')"
   ]
  },
  {
   "cell_type": "code",
   "execution_count": null,
   "metadata": {},
   "outputs": [],
   "source": [
    "#2017\n",
    "df1 = pd.read_csv('./Data/2017/Divvy_Trips_2017_Q1.csv')\n",
    "df2 = pd.read_csv('./Data/2017/Divvy_Trips_2017_Q2.csv')\n",
    "df3 = pd.read_csv('./Data/2017/Divvy_Trips_2017_Q3.csv')\n",
    "df4 = pd.read_csv('./Data/2017/Divvy_Trips_2017_Q4.csv')"
   ]
  },
  {
   "cell_type": "code",
   "execution_count": null,
   "metadata": {},
   "outputs": [],
   "source": [
    "#2018\n",
    "df1 = pd.read_csv('./Data/2018/Divvy_Trips_2018_Q1.csv')\n",
    "df2 = pd.read_csv('./Data/2018/Divvy_Trips_2018_Q2.csv')\n",
    "df3 = pd.read_csv('./Data/2018/Divvy_Trips_2018_Q3.csv')\n",
    "df4 = pd.read_csv('./Data/2018/Divvy_Trips_2018_Q4.csv')"
   ]
  },
  {
   "cell_type": "code",
   "execution_count": null,
   "metadata": {},
   "outputs": [],
   "source": [
    "#2019\n",
    "df1 = pd.read_csv('./Data/2019/Divvy_Trips_2019_Q1.csv')\n",
    "df2 = pd.read_csv('./Data/2019/Divvy_Trips_2019_Q2.csv')\n",
    "df3 = pd.read_csv('./Data/2019/Divvy_Trips_2019_Q3.csv')\n",
    "df4 = pd.read_csv('./Data/2019/Divvy_Trips_2019_Q4.csv')"
   ]
  },
  {
   "cell_type": "code",
   "execution_count": null,
   "metadata": {},
   "outputs": [],
   "source": [
    "#2020\n",
    "df1 = pd.read_csv('./Data/2020/Divvy_Trips_2020-Q1.csv')\n",
    "df2 = pd.read_csv('./Data/2020/202004-divvy-tripdata.csv')\n",
    "df3 = pd.read_csv('./Data/2020/202005-divvy-tripdata.csv')\n",
    "df4 = pd.read_csv('./Data/2020/202006-divvy-tripdata.csv')\n",
    "df5 = pd.read_csv('./Data/2020/202007-divvy-tripdata.csv')\n",
    "df6 = pd.read_csv('./Data/2020/202008-divvy-tripdata.csv')\n",
    "df7 = pd.read_csv('./Data/2020/202009-divvy-tripdata.csv')\n",
    "df8 = pd.read_csv('./Data/2020/202010-divvy-tripdata.csv')\n",
    "df9 = pd.read_csv('./Data/2020/202011-divvy-tripdata.csv')\n",
    "df10 = pd.read_csv('./Data/2020/202012-divvy-tripdata.csv')"
   ]
  },
  {
   "cell_type": "code",
   "execution_count": null,
   "metadata": {},
   "outputs": [],
   "source": [
    "#2021\n",
    "df1 = pd.read_csv('./Data/2021/202101-divvy-tripdata.csv')\n",
    "df2 = pd.read_csv('./Data/2021/202102-divvy-tripdata.csv')\n",
    "df3 = pd.read_csv('./Data/2021/202103-divvy-tripdata.csv')\n",
    "df4 = pd.read_csv('./Data/2021/202104-divvy-tripdata.csv')\n",
    "df5 = pd.read_csv('./Data/2021/202105-divvy-tripdata.csv')\n",
    "df6 = pd.read_csv('./Data/2021/202106-divvy-tripdata.csv')\n",
    "df7 = pd.read_csv('./Data/2021/202107-divvy-tripdata.csv')\n",
    "df8 = pd.read_csv('./Data/2021/202108-divvy-tripdata.csv')\n",
    "df9 = pd.read_csv('./Data/2021/202109-divvy-tripdata.csv')\n",
    "df10 = pd.read_csv('./Data/2021/202110-divvy-tripdata.csv')\n",
    "df11 = pd.read_csv('./Data/2021/202111-divvy-tripdata.csv')\n",
    "df12 = pd.read_csv('./Data/2021/202112-divvy-tripdata.csv')"
   ]
  },
  {
   "cell_type": "code",
   "execution_count": null,
   "metadata": {},
   "outputs": [],
   "source": [
    "#2022\n",
    "df1 = pd.read_csv('./Data/2022/202201-divvy-tripdata.csv')\n",
    "df2 = pd.read_csv('./Data/2022/202202-divvy-tripdata.csv')"
   ]
  },
  {
   "cell_type": "code",
   "execution_count": null,
   "metadata": {},
   "outputs": [],
   "source": []
  },
  {
   "cell_type": "code",
   "execution_count": null,
   "metadata": {},
   "outputs": [],
   "source": []
  },
  {
   "cell_type": "code",
   "execution_count": null,
   "metadata": {},
   "outputs": [],
   "source": []
  },
  {
   "cell_type": "code",
   "execution_count": null,
   "metadata": {},
   "outputs": [],
   "source": []
  }
 ],
 "metadata": {
  "kernelspec": {
   "display_name": "Python 3",
   "language": "python",
   "name": "python3"
  },
  "language_info": {
   "codemirror_mode": {
    "name": "ipython",
    "version": 3
   },
   "file_extension": ".py",
   "mimetype": "text/x-python",
   "name": "python",
   "nbconvert_exporter": "python",
   "pygments_lexer": "ipython3",
   "version": "3.8.5"
  }
 },
 "nbformat": 4,
 "nbformat_minor": 4
}
